{
 "cells": [
  {
   "cell_type": "code",
   "execution_count": 14,
   "id": "cac8a3e7",
   "metadata": {},
   "outputs": [],
   "source": [
    "import math\n",
    "def estimates(sample_mean, sigma,sample_size):\n",
    "    alpha=0.05\n",
    "    Alpha_dict_z = {0.025:1.96, 0.05:1.64}\n",
    "    Alpha_dict_t={0.05:{10:1.812,15:1.753,20:1.725,30:1.697,40:1.684,60:1.671,80:1.664,100:1.660},0.025:{10:2.228,15:2.131,20:2.086,30:2.042,40:2.021,60:2.0,80:1.990,100:1.984}}\n",
    "    CI=int(input('Enter the confidence interval:'))\n",
    "    al=(100-CI)/100\n",
    "    df=sample_size-1\n",
    "    point_estimate = sample_mean\n",
    "    sqrt_size=math.sqrt(sample_size)\n",
    "    if(sample_size<30):\n",
    "        print (\"Point Estimate:\",point_estimate)\n",
    "        t_score=Alpha_dict_t[al][df]\n",
    "        MoE=t_score*sigma/sqrt_size\n",
    "        in_estimate_upper=sample_mean+MoE\n",
    "        in_estimate_lower=sample_mean-MoE\n",
    "        print(f\"Interval Estimate:{in_estimate_lower}to{in_estimate_upper}\")\n",
    "    elif(sample_size>30):\n",
    "        print (\"Point Estimate:\",point_estimate)\n",
    "        z_score=Alpha_dict_z[al]\n",
    "        MoE=z_score*sigma/sqrt_size\n",
    "        in_estimate_upper=sample_mean+MoE\n",
    "        in_estimate_lower=sample_mean-MoE\n",
    "        print(f\"Interval Estimate:{in_estimate_lower}to{in_estimate_upper}\")"
   ]
  },
  {
   "cell_type": "code",
   "execution_count": 15,
   "id": "c0eb28c8",
   "metadata": {},
   "outputs": [
    {
     "name": "stdout",
     "output_type": "stream",
     "text": [
      "Enter the confidence interval:95\n",
      "Point Estimate: 750\n",
      "Interval Estimate:725.89625to774.10375\n"
     ]
    }
   ],
   "source": [
    "estimates(750, 55,16)"
   ]
  },
  {
   "cell_type": "code",
   "execution_count": null,
   "id": "564fb900",
   "metadata": {},
   "outputs": [],
   "source": []
  }
 ],
 "metadata": {
  "kernelspec": {
   "display_name": "Python 3 (ipykernel)",
   "language": "python",
   "name": "python3"
  },
  "language_info": {
   "codemirror_mode": {
    "name": "ipython",
    "version": 3
   },
   "file_extension": ".py",
   "mimetype": "text/x-python",
   "name": "python",
   "nbconvert_exporter": "python",
   "pygments_lexer": "ipython3",
   "version": "3.11.3"
  }
 },
 "nbformat": 4,
 "nbformat_minor": 5
}
